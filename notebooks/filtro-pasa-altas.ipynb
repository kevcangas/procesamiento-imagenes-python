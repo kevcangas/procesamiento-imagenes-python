{
 "cells": [
  {
   "attachments": {},
   "cell_type": "markdown",
   "metadata": {},
   "source": [
    "# Filtro pasa altas"
   ]
  },
  {
   "attachments": {},
   "cell_type": "markdown",
   "metadata": {},
   "source": [
    "#### Carga de librerías"
   ]
  },
  {
   "cell_type": "code",
   "execution_count": 1,
   "metadata": {},
   "outputs": [],
   "source": [
    "import cv2\n",
    "import numpy as np"
   ]
  },
  {
   "attachments": {},
   "cell_type": "markdown",
   "metadata": {},
   "source": [
    "#### Kernel para la convolución"
   ]
  },
  {
   "cell_type": "code",
   "execution_count": 41,
   "metadata": {},
   "outputs": [],
   "source": [
    "kernel_1 = 1/9*np.array([[-1, -1, -1], #Mediador\n",
    "                       [-1, 8, -1],\n",
    "                       [-1, -1, -1]])\n",
    "\n",
    "kernel_2 = np.array([[-1, 0, 1],   #Mascara de Sobel X\n",
    "                       [-2, 0, 2],\n",
    "                       [-1, 0, 1]])\n",
    "\n",
    "kernel_3 = np.array([[-1, -2, -1],   #Mascara de Sobel Y\n",
    "                       [0, 0, 0],\n",
    "                       [1, 2, 1]])"
   ]
  },
  {
   "attachments": {},
   "cell_type": "markdown",
   "metadata": {},
   "source": [
    "#### Procesamiento"
   ]
  },
  {
   "cell_type": "code",
   "execution_count": 44,
   "metadata": {},
   "outputs": [],
   "source": [
    "img = cv2.imread(r\"..\\data\\2-persona.jpg\", cv2.IMREAD_GRAYSCALE)\n",
    "img_filtrada = cv2.filter2D(img,-1, kernel_1)\n",
    "cv2.imshow(\"Imagen Filtrada\", img_filtrada)\n",
    "cv2.waitKey()\n",
    "cv2.destroyAllWindows()\n"
   ]
  }
 ],
 "metadata": {
  "kernelspec": {
   "display_name": "venv",
   "language": "python",
   "name": "python3"
  },
  "language_info": {
   "codemirror_mode": {
    "name": "ipython",
    "version": 3
   },
   "file_extension": ".py",
   "mimetype": "text/x-python",
   "name": "python",
   "nbconvert_exporter": "python",
   "pygments_lexer": "ipython3",
   "version": "3.10.8"
  },
  "orig_nbformat": 4
 },
 "nbformat": 4,
 "nbformat_minor": 2
}
