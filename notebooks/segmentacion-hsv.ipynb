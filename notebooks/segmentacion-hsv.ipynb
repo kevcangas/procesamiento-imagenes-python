{
 "cells": [
  {
   "attachments": {},
   "cell_type": "markdown",
   "metadata": {},
   "source": [
    "# Segementación a traves de la codificación HSV"
   ]
  },
  {
   "attachments": {},
   "cell_type": "markdown",
   "metadata": {},
   "source": [
    "#### Carga de librerías"
   ]
  },
  {
   "cell_type": "code",
   "execution_count": 1,
   "metadata": {},
   "outputs": [],
   "source": [
    "import cv2"
   ]
  },
  {
   "attachments": {},
   "cell_type": "markdown",
   "metadata": {},
   "source": [
    "#### Carga de la imagen de prueba"
   ]
  },
  {
   "cell_type": "code",
   "execution_count": 3,
   "metadata": {},
   "outputs": [],
   "source": [
    "img = cv2.imread(r'..\\data\\2-persona.jpg')"
   ]
  },
  {
   "attachments": {},
   "cell_type": "markdown",
   "metadata": {},
   "source": [
    "#### Binalización"
   ]
  },
  {
   "cell_type": "code",
   "execution_count": 26,
   "metadata": {},
   "outputs": [],
   "source": [
    "def bin_hsv(img, h_range:list=[0,255], s_range:list=[0,255], v_range:list=[0,255], transform_hsv:bool=True):\n",
    "    if(transform_hsv):\n",
    "        img_hsv = cv2.cvtColor(img, cv2.COLOR_BGR2HSV)\n",
    "    else:\n",
    "        img_hsv = img\n",
    "    h_bin = cv2.threshold(img_hsv[:,:,0],h_range[0],255,0)[1]*cv2.threshold(img_hsv[:,:,0],h_range[1],1,cv2.THRESH_BINARY_INV)[1]\n",
    "    s_bin = cv2.threshold(img_hsv[:,:,1],s_range[0],1,0)[1]*cv2.threshold(img_hsv[:,:,1],s_range[1],1,cv2.THRESH_BINARY_INV)[1]\n",
    "    v_bin = cv2.threshold(img_hsv[:,:,2],v_range[0],1,0)[1]*cv2.threshold(img_hsv[:,:,2],v_range[1],1,cv2.THRESH_BINARY_INV)[1]\n",
    "    return h_bin * s_bin * v_bin"
   ]
  },
  {
   "cell_type": "code",
   "execution_count": 40,
   "metadata": {},
   "outputs": [],
   "source": [
    "img_bin = bin_hsv(img, [0,30], [30,255], [0,255])\n",
    "cv2.imshow('Imagen', img_bin)\n",
    "cv2.waitKey(0)\n",
    "cv2.destroyAllWindows()"
   ]
  }
 ],
 "metadata": {
  "kernelspec": {
   "display_name": "venv",
   "language": "python",
   "name": "python3"
  },
  "language_info": {
   "codemirror_mode": {
    "name": "ipython",
    "version": 3
   },
   "file_extension": ".py",
   "mimetype": "text/x-python",
   "name": "python",
   "nbconvert_exporter": "python",
   "pygments_lexer": "ipython3",
   "version": "3.10.8"
  },
  "orig_nbformat": 4
 },
 "nbformat": 4,
 "nbformat_minor": 2
}
